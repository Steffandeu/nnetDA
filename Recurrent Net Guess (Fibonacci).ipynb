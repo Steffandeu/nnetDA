{
 "cells": [
  {
   "cell_type": "code",
   "execution_count": 1,
   "metadata": {
    "collapsed": true
   },
   "outputs": [],
   "source": [
    "import numpy as np\n",
    "import matplotlib.pyplot as plt"
   ]
  },
  {
   "cell_type": "code",
   "execution_count": 5,
   "metadata": {},
   "outputs": [
    {
     "data": {
      "text/plain": [
       "[0, 1, 1, 2, 3, 5, 8, 13, 21, 34]"
      ]
     },
     "execution_count": 5,
     "metadata": {},
     "output_type": "execute_result"
    }
   ],
   "source": [
    "# Generate data set\n",
    "def fib(n):\n",
    "    fib = [0,1]\n",
    "    for i in range(n - 2):\n",
    "        fib.append(fib[i] + fib[i + 1])\n",
    "    return fib"
   ]
  },
  {
   "cell_type": "code",
   "execution_count": 118,
   "metadata": {},
   "outputs": [],
   "source": [
    "# Architecture\n",
    "# Trying out a simple 1 layer\n",
    "input_layer = 1\n",
    "hidden_layer = 10\n",
    "output_layer = 1\n",
    "\n",
    "# Initialize weights\n",
    "w0 = 2*np.random.random((hidden_layer, input_layer + output_layer)) - 1\n",
    "w1 = 2*np.random.random((output_layer, hidden_layer)) - 1"
   ]
  },
  {
   "cell_type": "code",
   "execution_count": 119,
   "metadata": {},
   "outputs": [],
   "source": [
    "# Prepare input and output\n",
    "length = 5\n",
    "x = fib(length)"
   ]
  },
  {
   "cell_type": "code",
   "execution_count": 120,
   "metadata": {},
   "outputs": [],
   "source": [
    "iterations = 10\n",
    "def backpropTT(x, iterations=iterations):\n",
    "    # unfolding the weights\n",
    "    w0_unf = np.repeat(w0[:,:,np.newaxis], len(x), axis=2)\n",
    "    w1_unf = np.repeat(w1[:,:,np.newaxis], len(x), axis=2)\n",
    "\n",
    "    # feed forward on unfolded network\n",
    "    x0 = \n",
    "    \n",
    "    # backprop on unfolded network\n",
    "    for i in range(len(x) - 1):\n",
    "        pass\n",
    "    return w0_unf"
   ]
  },
  {
   "cell_type": "code",
   "execution_count": 116,
   "metadata": {},
   "outputs": [],
   "source": [
    "a = backpropTT(x)"
   ]
  },
  {
   "cell_type": "code",
   "execution_count": 117,
   "metadata": {},
   "outputs": [
    {
     "data": {
      "text/plain": [
       "array([[ 0.25825349],\n",
       "       [ 0.05031873],\n",
       "       [-0.02793076],\n",
       "       [-0.32200468],\n",
       "       [-0.16056274],\n",
       "       [-0.0234171 ],\n",
       "       [-0.09301501],\n",
       "       [ 0.12338426],\n",
       "       [-0.53433319],\n",
       "       [ 0.08573844]])"
      ]
     },
     "execution_count": 117,
     "metadata": {},
     "output_type": "execute_result"
    }
   ],
   "source": [
    "a[:,:,0]"
   ]
  },
  {
   "cell_type": "code",
   "execution_count": 99,
   "metadata": {},
   "outputs": [
    {
     "data": {
      "text/plain": [
       "array([[ 0.24835329, -0.7804562 ,  0.81897996],\n",
       "       [ 0.99507946, -0.65598353,  0.68512228],\n",
       "       [-0.57311791, -0.59086559,  0.72180683],\n",
       "       [ 0.93006865,  0.34388145, -0.0577469 ],\n",
       "       [ 0.80872835, -0.13467453,  0.71522481],\n",
       "       [ 0.37066824, -0.38889689,  0.71668282],\n",
       "       [ 0.09785932, -0.34068288, -0.0607513 ],\n",
       "       [ 0.51525663,  0.15730717,  0.41915205],\n",
       "       [ 0.62377482,  0.53737205,  0.87514476],\n",
       "       [-0.27935393, -0.73586451,  0.19577662]])"
      ]
     },
     "execution_count": 99,
     "metadata": {},
     "output_type": "execute_result"
    }
   ],
   "source": [
    "a[:,:,1]"
   ]
  },
  {
   "cell_type": "code",
   "execution_count": 68,
   "metadata": {},
   "outputs": [
    {
     "data": {
      "text/plain": [
       "(10, 3)"
      ]
     },
     "execution_count": 68,
     "metadata": {},
     "output_type": "execute_result"
    }
   ],
   "source": [
    "w0.shape"
   ]
  },
  {
   "cell_type": "code",
   "execution_count": 70,
   "metadata": {},
   "outputs": [
    {
     "data": {
      "text/plain": [
       "(10, 2, 5)"
      ]
     },
     "execution_count": 70,
     "metadata": {},
     "output_type": "execute_result"
    }
   ],
   "source": [
    "w0_unf.shape"
   ]
  },
  {
   "cell_type": "code",
   "execution_count": 56,
   "metadata": {},
   "outputs": [
    {
     "data": {
      "text/plain": [
       "[0, 1, 2, 3]"
      ]
     },
     "execution_count": 56,
     "metadata": {},
     "output_type": "execute_result"
    }
   ],
   "source": [
    "range(len(x) - 1)"
   ]
  }
 ],
 "metadata": {
  "kernelspec": {
   "display_name": "Python 2",
   "language": "python",
   "name": "python2"
  },
  "language_info": {
   "codemirror_mode": {
    "name": "ipython",
    "version": 2
   },
   "file_extension": ".py",
   "mimetype": "text/x-python",
   "name": "python",
   "nbconvert_exporter": "python",
   "pygments_lexer": "ipython2",
   "version": "2.7.14"
  }
 },
 "nbformat": 4,
 "nbformat_minor": 2
}
