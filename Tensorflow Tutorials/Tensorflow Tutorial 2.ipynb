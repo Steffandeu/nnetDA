{
 "cells": [
  {
   "cell_type": "code",
   "execution_count": 1,
   "metadata": {
    "collapsed": true
   },
   "outputs": [],
   "source": [
    "import numpy as np\n",
    "import tensorflow as tf"
   ]
  },
  {
   "cell_type": "code",
   "execution_count": 2,
   "metadata": {},
   "outputs": [
    {
     "name": "stdout",
     "output_type": "stream",
     "text": [
      "INFO:tensorflow:Using default config.\n",
      "WARNING:tensorflow:Using temporary folder as model directory: /var/folders/61/cwfb4pw94vj6q3s_y3zcssbm0000gn/T/tmpGs4a6q\n",
      "INFO:tensorflow:Using config: {'_save_checkpoints_secs': 600, '_session_config': None, '_keep_checkpoint_max': 5, '_task_type': 'worker', '_is_chief': True, '_cluster_spec': <tensorflow.python.training.server_lib.ClusterSpec object at 0x111c54390>, '_save_checkpoints_steps': None, '_keep_checkpoint_every_n_hours': 10000, '_service': None, '_num_ps_replicas': 0, '_tf_random_seed': None, '_master': '', '_num_worker_replicas': 1, '_task_id': 0, '_log_step_count_steps': 100, '_model_dir': '/var/folders/61/cwfb4pw94vj6q3s_y3zcssbm0000gn/T/tmpGs4a6q', '_save_summary_steps': 100}\n",
      "INFO:tensorflow:Create CheckpointSaverHook.\n",
      "INFO:tensorflow:Saving checkpoints for 1 into /var/folders/61/cwfb4pw94vj6q3s_y3zcssbm0000gn/T/tmpGs4a6q/model.ckpt.\n",
      "INFO:tensorflow:loss = 17.193012864, step = 1\n",
      "INFO:tensorflow:global_step/sec: 744.841\n",
      "INFO:tensorflow:loss = 0.231686763459, step = 101 (0.131 sec)\n",
      "INFO:tensorflow:global_step/sec: 821.923\n",
      "INFO:tensorflow:loss = 0.0129328059688, step = 201 (0.122 sec)\n",
      "INFO:tensorflow:global_step/sec: 827.643\n",
      "INFO:tensorflow:loss = 0.00355197615491, step = 301 (0.121 sec)\n",
      "INFO:tensorflow:global_step/sec: 664.725\n",
      "INFO:tensorflow:loss = 5.20095786928e-05, step = 401 (0.151 sec)\n",
      "INFO:tensorflow:global_step/sec: 728.772\n",
      "INFO:tensorflow:loss = 5.44181433914e-06, step = 501 (0.137 sec)\n",
      "INFO:tensorflow:global_step/sec: 838.596\n",
      "INFO:tensorflow:loss = 3.34594892193e-07, step = 601 (0.119 sec)\n",
      "INFO:tensorflow:global_step/sec: 831.097\n",
      "INFO:tensorflow:loss = 6.29834583441e-08, step = 701 (0.120 sec)\n",
      "INFO:tensorflow:global_step/sec: 574.059\n",
      "INFO:tensorflow:loss = 1.24687349353e-08, step = 801 (0.175 sec)\n",
      "INFO:tensorflow:global_step/sec: 492.693\n",
      "INFO:tensorflow:loss = 1.30397528618e-09, step = 901 (0.207 sec)\n",
      "INFO:tensorflow:Saving checkpoints for 1000 into /var/folders/61/cwfb4pw94vj6q3s_y3zcssbm0000gn/T/tmpGs4a6q/model.ckpt.\n",
      "INFO:tensorflow:Loss for final step: 6.30227086336e-11.\n"
     ]
    },
    {
     "data": {
      "text/plain": [
       "<tensorflow.python.estimator.estimator.Estimator at 0x11de18d10>"
      ]
     },
     "execution_count": 2,
     "metadata": {},
     "output_type": "execute_result"
    }
   ],
   "source": [
    "# List of features\n",
    "def model_fn(features, labels, mode):\n",
    "    # Build linear model\n",
    "    W = tf.get_variable(\"W\", [1], dtype=tf.float64)\n",
    "    b = tf.get_variable(\"b\", [1], dtype=tf.float64)\n",
    "    y = W*features['x'] + b\n",
    "    \n",
    "    # Loss sub-graph\n",
    "    loss = tf.reduce_sum(tf.square(y - labels))\n",
    "    \n",
    "    # Training sub-graph\n",
    "    global_step = tf.train.get_global_step()\n",
    "    optimizer = tf.train.GradientDescentOptimizer(0.01)\n",
    "    train = tf.group(optimizer.minimize(loss),\n",
    "                    tf.assign_add(global_step, 1))\n",
    "    \n",
    "    # EstimatorSpec connects subgraphs we built to the appropriate functionality\n",
    "    return tf.estimator.EstimatorSpec(\n",
    "        mode=mode,\n",
    "        predictions=y,\n",
    "        loss=loss,\n",
    "        train_op=train)\n",
    "\n",
    "estimator = tf.estimator.Estimator(model_fn=model_fn)\n",
    "# define data sets\n",
    "x_train = np.array([1., 2., 3., 4.])\n",
    "y_train = np.array([0., -1., -2., -3.])\n",
    "x_eval = np.array([2., 5., 8., 1.])\n",
    "y_eval = np.array([-1.01, -4.1, -7., 0.])\n",
    "input_fn = tf.estimator.inputs.numpy_input_fn(\n",
    "    {\"x\": x_train}, y_train, batch_size=4, num_epochs=None, shuffle=True)\n",
    "train_input_fn = tf.estimator.inputs.numpy_input_fn(\n",
    "    {\"x\": x_train}, y_train, batch_size=4, num_epochs=1000, shuffle=False)\n",
    "eval_input_fn = tf.estimator.inputs.numpy_input_fn(\n",
    "    {\"x\": x_eval}, y_eval, batch_size=4, num_epochs=1000, shuffle=False)\n",
    "\n",
    "# train\n",
    "estimator.train(input_fn=input_fn, steps=1000)"
   ]
  },
  {
   "cell_type": "code",
   "execution_count": 3,
   "metadata": {},
   "outputs": [
    {
     "name": "stdout",
     "output_type": "stream",
     "text": [
      "INFO:tensorflow:Starting evaluation at 2018-01-13-05:03:21\n",
      "INFO:tensorflow:Restoring parameters from /var/folders/61/cwfb4pw94vj6q3s_y3zcssbm0000gn/T/tmpGs4a6q/model.ckpt-1000\n",
      "INFO:tensorflow:Finished evaluation at 2018-01-13-05:03:22\n",
      "INFO:tensorflow:Saving dict for global step 1000: global_step = 1000, loss = 7.70107e-11\n",
      "INFO:tensorflow:Starting evaluation at 2018-01-13-05:03:23\n",
      "INFO:tensorflow:Restoring parameters from /var/folders/61/cwfb4pw94vj6q3s_y3zcssbm0000gn/T/tmpGs4a6q/model.ckpt-1000\n",
      "INFO:tensorflow:Finished evaluation at 2018-01-13-05:03:24\n",
      "INFO:tensorflow:Saving dict for global step 1000: global_step = 1000, loss = 0.0101016\n",
      "train metrics: {'loss': 7.7010717e-11, 'global_step': 1000}\n",
      "eval metrics: {'loss': 0.010101607, 'global_step': 1000}\n"
     ]
    }
   ],
   "source": [
    "# Evaluate how well model did\n",
    "train_metrics = estimator.evaluate(input_fn=train_input_fn)\n",
    "eval_metrics = estimator.evaluate(input_fn=eval_input_fn)\n",
    "print(\"train metrics: %r\" % train_metrics)\n",
    "print(\"eval metrics: %r\" % eval_metrics)"
   ]
  },
  {
   "cell_type": "code",
   "execution_count": null,
   "metadata": {
    "collapsed": true
   },
   "outputs": [],
   "source": []
  }
 ],
 "metadata": {
  "kernelspec": {
   "display_name": "Python tensorflow",
   "language": "python",
   "name": "tensorflow"
  },
  "language_info": {
   "codemirror_mode": {
    "name": "ipython",
    "version": 2
   },
   "file_extension": ".py",
   "mimetype": "text/x-python",
   "name": "python",
   "nbconvert_exporter": "python",
   "pygments_lexer": "ipython2",
   "version": "2.7.10"
  }
 },
 "nbformat": 4,
 "nbformat_minor": 2
}
