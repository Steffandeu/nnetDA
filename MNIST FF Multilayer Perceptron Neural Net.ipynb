{
 "cells": [
  {
   "cell_type": "code",
   "execution_count": 1,
   "metadata": {
    "collapsed": true
   },
   "outputs": [],
   "source": [
    "import numpy as np\n",
    "from mnist import MNIST\n",
    "import matplotlib.pyplot as plt\n",
    "import matplotlib.image as mpimg\n",
    "\n",
    "import time"
   ]
  },
  {
   "cell_type": "code",
   "execution_count": 2,
   "metadata": {
    "collapsed": true
   },
   "outputs": [],
   "source": [
    "# Load input data\n",
    "mndata = MNIST('./python-mnist/data')\n",
    "images, labels = mndata.load_training()\n",
    "X_all = np.array(images)\n",
    "Y_all = np.array(labels)"
   ]
  },
  {
   "cell_type": "code",
   "execution_count": 3,
   "metadata": {},
   "outputs": [
    {
     "data": {
      "image/png": "[encoded data removed]",
      "text/plain": [
       "<matplotlib.figure.Figure at 0x10d614b90>"
      ]
     },
     "metadata": {},
     "output_type": "display_data"
    }
   ],
   "source": [
    "# View sample of data\n",
    "view = np.array(images[0])\n",
    "view = np.reshape(view,(28,28))\n",
    "plt.imshow(view)\n",
    "plt.title('MNIST Data Sample: %s digit' % labels[0])\n",
    "plt.show()"
   ]
  },
  {
   "cell_type": "code",
   "execution_count": 18,
   "metadata": {},
   "outputs": [
    {
     "data": {
      "image/png": "[encoded data removed]",
      "text/plain": [
       "<matplotlib.figure.Figure at 0x1105708d0>"
      ]
     },
     "metadata": {},
     "output_type": "display_data"
    }
   ],
   "source": [
    "plt.hist(np.array(images[0])[np.nonzero(np.array(images[0]))], bins='auto')\n",
    "plt.show()"
   ]
  },
  {
   "cell_type": "code",
   "execution_count": 7,
   "metadata": {
    "collapsed": true
   },
   "outputs": [],
   "source": [
    "# Subset Samples for training, validation\n",
    "np.random.seed(1)\n",
    "\n",
    "# Map y-labels to 10-vector\n",
    "mapping = {}\n",
    "for i in xrange(10):\n",
    "    mapping[i] = np.insert(np.zeros(9),i,1)\n",
    "Y_mapped = np.array([mapping[x] for x in Y_all])\n",
    "    \n",
    "# For now, choose first 1000 for training, later it's better to choose a random sample\n",
    "X_train = X_all[0:1000,:].T\n",
    "Y_train = Y_mapped[0:1000].T\n",
    "\n",
    "X_validate = X_all[1001:2000,:].T\n",
    "Y_validate = Y_mapped[1001:2000].T"
   ]
  },
  {
   "cell_type": "code",
   "execution_count": 18,
   "metadata": {
    "collapsed": true
   },
   "outputs": [],
   "source": [
    "#Architecture & Hyperparameters\n",
    "#Going to try a small one to start, 2 hidden layers with 200 units and 100 units respectively\n",
    "layer_in = 784\n",
    "layer1 = 200\n",
    "layer2 = 100\n",
    "layer_out = 10\n",
    "alpha = 0.5\n",
    "error_threshold = 0.05\n"
   ]
  },
  {
   "cell_type": "code",
   "execution_count": 19,
   "metadata": {
    "collapsed": true
   },
   "outputs": [],
   "source": [
    "np.random.seed(1)\n",
    "#Input -> l1 Weight matrix has to be np.shape = (785, 200) extra bias term\n",
    "w0 = 2*np.random.random((layer_in + 1, layer1)) - 1\n",
    "# l1 -> l2 Weight matrix has to be np.shape = (201, 100) extra bias term\n",
    "w1 = 2*np.random.random((layer1 + 1, layer2)) - 1\n",
    "#l2 -> Output Weight matrix has to be np.shape = (101, 10) extra bias term\n",
    "w2 = 2*np.random.random((layer2 + 1, layer_out)) - 1"
   ]
  },
  {
   "cell_type": "code",
   "execution_count": 20,
   "metadata": {
    "collapsed": true
   },
   "outputs": [],
   "source": [
    "def sigmoid(x, deriv=False):\n",
    "    if deriv:\n",
    "        return x * (1 - x)\n",
    "    else:\n",
    "        return 1 / (1 + np.exp(-x))"
   ]
  },
  {
   "cell_type": "code",
   "execution_count": 21,
   "metadata": {},
   "outputs": [
    {
     "name": "stderr",
     "output_type": "stream",
     "text": [
      "/usr/local/Cellar/ipython@5/5.5.0_1/libexec/vendor/lib/python2.7/site-packages/ipykernel_launcher.py:5: RuntimeWarning: overflow encountered in exp\n",
      "  \"\"\"\n"
     ]
    },
    {
     "name": "stdout",
     "output_type": "stream",
     "text": [
      "Iteration 10, Error: 0.429503\n",
      "Iteration 20, Error: 0.339216\n",
      "Iteration 30, Error: 0.293975\n",
      "Iteration 40, Error: 0.259735\n",
      "Iteration 50, Error: 0.233427\n",
      "Iteration 60, Error: 0.214458\n"
     ]
    },
    {
     "ename": "KeyboardInterrupt",
     "evalue": "",
     "output_type": "error",
     "traceback": [
      "\u001b[0;31m---------------------------------------------------------------------------\u001b[0m",
      "\u001b[0;31mKeyboardInterrupt\u001b[0m                         Traceback (most recent call last)",
      "\u001b[0;32m<ipython-input-21-5939bbe350da>\u001b[0m in \u001b[0;36m<module>\u001b[0;34m()\u001b[0m\n\u001b[1;32m     26\u001b[0m     \u001b[0ml3_grad\u001b[0m \u001b[0;34m=\u001b[0m \u001b[0ml3_delta\u001b[0m\u001b[0;34m[\u001b[0m\u001b[0mnp\u001b[0m\u001b[0;34m.\u001b[0m\u001b[0mnewaxis\u001b[0m\u001b[0;34m,\u001b[0m \u001b[0;34m:\u001b[0m\u001b[0;34m,\u001b[0m \u001b[0;34m:\u001b[0m\u001b[0;34m]\u001b[0m \u001b[0;34m*\u001b[0m \u001b[0mx2\u001b[0m\u001b[0;34m[\u001b[0m\u001b[0;34m:\u001b[0m\u001b[0;34m,\u001b[0m \u001b[0mnp\u001b[0m\u001b[0;34m.\u001b[0m\u001b[0mnewaxis\u001b[0m\u001b[0;34m,\u001b[0m \u001b[0;34m:\u001b[0m\u001b[0;34m]\u001b[0m \u001b[0;31m# matrix shape (101, 10, n)\u001b[0m\u001b[0;34m\u001b[0m\u001b[0m\n\u001b[1;32m     27\u001b[0m     \u001b[0ml2_grad\u001b[0m \u001b[0;34m=\u001b[0m \u001b[0ml2_delta\u001b[0m\u001b[0;34m[\u001b[0m\u001b[0mnp\u001b[0m\u001b[0;34m.\u001b[0m\u001b[0mnewaxis\u001b[0m\u001b[0;34m,\u001b[0m \u001b[0;34m:\u001b[0m\u001b[0;34m,\u001b[0m \u001b[0;34m:\u001b[0m\u001b[0;34m]\u001b[0m \u001b[0;34m*\u001b[0m \u001b[0mx1\u001b[0m\u001b[0;34m[\u001b[0m\u001b[0;34m:\u001b[0m\u001b[0;34m,\u001b[0m \u001b[0mnp\u001b[0m\u001b[0;34m.\u001b[0m\u001b[0mnewaxis\u001b[0m\u001b[0;34m,\u001b[0m \u001b[0;34m:\u001b[0m\u001b[0;34m]\u001b[0m \u001b[0;31m# matrix shape (201, 100, n)\u001b[0m\u001b[0;34m\u001b[0m\u001b[0m\n\u001b[0;32m---> 28\u001b[0;31m     \u001b[0ml1_grad\u001b[0m \u001b[0;34m=\u001b[0m \u001b[0ml1_delta\u001b[0m\u001b[0;34m[\u001b[0m\u001b[0mnp\u001b[0m\u001b[0;34m.\u001b[0m\u001b[0mnewaxis\u001b[0m\u001b[0;34m,\u001b[0m \u001b[0;34m:\u001b[0m\u001b[0;34m,\u001b[0m \u001b[0;34m:\u001b[0m\u001b[0;34m]\u001b[0m \u001b[0;34m*\u001b[0m \u001b[0mx0\u001b[0m\u001b[0;34m[\u001b[0m\u001b[0;34m:\u001b[0m\u001b[0;34m,\u001b[0m \u001b[0mnp\u001b[0m\u001b[0;34m.\u001b[0m\u001b[0mnewaxis\u001b[0m\u001b[0;34m,\u001b[0m \u001b[0;34m:\u001b[0m\u001b[0;34m]\u001b[0m \u001b[0;31m# matrix shape (785, 200, n)\u001b[0m\u001b[0;34m\u001b[0m\u001b[0m\n\u001b[0m\u001b[1;32m     29\u001b[0m \u001b[0;34m\u001b[0m\u001b[0m\n\u001b[1;32m     30\u001b[0m     \u001b[0;31m# find total gradient across all examples\u001b[0m\u001b[0;34m\u001b[0m\u001b[0;34m\u001b[0m\u001b[0m\n",
      "\u001b[0;31mKeyboardInterrupt\u001b[0m: "
     ]
    }
   ],
   "source": [
    "#Training\n",
    "tot_error = 1\n",
    "counter = 1\n",
    "\n",
    "tstart = time.time()\n",
    "while (tot_error > error_threshold):\n",
    "    # forward prop\n",
    "    # load in input & label\n",
    "    x0 = np.hstack((np.ones((X_train.shape[1],1)),X_train.T)).T # matrix shape (785, n(examples))\n",
    "    y = Y_train # matrix shape (10,n)\n",
    "    N_examples = x0.shape[1]\n",
    "    \n",
    "    # propagate forward \n",
    "    x1 = np.hstack((np.ones((N_examples,1)), sigmoid(w0.T.dot(x0)).T)).T # vector length 201\n",
    "    x2 = np.hstack((np.ones((N_examples,1)), sigmoid(w1.T.dot(x1)).T)).T # vector length 101\n",
    "    x3 = sigmoid(w2.T.dot(x2)) # vector length 10\n",
    "    \n",
    "    # backprop\n",
    "    # calculate errors\n",
    "    tot_error = sum(sum((x3 - y)**2 / (2 * N_examples)))\n",
    "    l3_delta = (x3 - y) # matrix shape (10,n)\n",
    "    l2_delta = sigmoid(x2[1:], True)*w2[1:,:].dot(l3_delta) # matrix shape (100, n)\n",
    "    l1_delta = sigmoid(x1[1:], True)*w1[1:,:].dot(l2_delta) # matrix shape (200, n)\n",
    "    \n",
    "    # calculate gradients\n",
    "    l3_grad = l3_delta[np.newaxis, :, :] * x2[:, np.newaxis, :] # matrix shape (101, 10, n)\n",
    "    l2_grad = l2_delta[np.newaxis, :, :] * x1[:, np.newaxis, :] # matrix shape (201, 100, n)\n",
    "    l1_grad = l1_delta[np.newaxis, :, :] * x0[:, np.newaxis, :] # matrix shape (785, 200, n)\n",
    "    \n",
    "    # find total gradient across all examples\n",
    "    l3_totgrad = np.average(l3_grad, axis=2) # matrix shape (101,10)\n",
    "    l2_totgrad = np.average(l2_grad, axis=2) # matrix shape (201,100)\n",
    "    l1_totgrad = np.average(l1_grad, axis=2) # matrix shape (785,200)\n",
    "    \n",
    "    # update weights\n",
    "    w2 += -alpha*l3_totgrad # update weight 2-> 3\n",
    "    w1 += -alpha*l2_totgrad # update weight 1->2\n",
    "    w0 += -alpha*l1_totgrad # update weight 0->1\n",
    "    \n",
    "    counter += 1\n",
    "    if counter % 10 == 0:\n",
    "        print \"Iteration %d, Error: %f\" % (counter, tot_error)\n",
    "        \n",
    "print \"Training to %f error rate took %d seconds.\" % (error_threshold, time.time()-tstart)"
   ]
  },
  {
   "cell_type": "code",
   "execution_count": 5,
   "metadata": {
    "collapsed": true
   },
   "outputs": [],
   "source": [
    "# Validation\n",
    "def validate():\n",
    "    # forward prop\n",
    "    # load in input & label\n",
    "    x0 = np.hstack((np.ones((X_validate.shape[1],1)),X_validate.T)).T # matrix shape (785, n(examples))\n",
    "    y = Y_validate # matrix shape (10,n)\n",
    "    N_examples = x0.shape[1]\n",
    "    \n",
    "    # propagate forward \n",
    "    x1 = np.hstack((np.ones((N_examples,1)), sigmoid(w0.T.dot(x0)).T)).T # vector length 201\n",
    "    x2 = np.hstack((np.ones((N_examples,1)), sigmoid(w1.T.dot(x1)).T)).T # vector length 101\n",
    "    x3 = sigmoid(w2.T.dot(x2)) # vector length 10\n",
    "    \n",
    "    # calculate errors\n",
    "    tot_error = sum(sum((x3 - y)**2 / (2 * N_examples)))\n",
    "    return tot_error\n",
    "    \n",
    "def find_labels(x):\n",
    "    x0 = np.hstack((np.ones((x.shape[0],1)),x)).T # matrix shape (785, n(examples))\n",
    "    print x0\n",
    "    N_examples = x0.shape[1]\n",
    "    \n",
    "    # propagate forward \n",
    "    x1 = np.hstack((np.ones((N_examples,1)), sigmoid(w0.T.dot(x0)).T)).T # vector length 201\n",
    "    x2 = np.hstack((np.ones((N_examples,1)), sigmoid(w1.T.dot(x1)).T)).T # vector length 101\n",
    "    x3 = sigmoid(w2.T.dot(x2)) # vector length 10\n",
    "    \n",
    "    return np.argmax(x3, axis=0)"
   ]
  },
  {
   "cell_type": "code",
   "execution_count": 32,
   "metadata": {
    "collapsed": true
   },
   "outputs": [],
   "source": [
    "xtest = X_all[0:2]\n",
    "x0 = np.hstack((np.ones((xtest.shape[0],1)),xtest)).T # matrix shape (785, n(examples))\n"
   ]
  },
  {
   "cell_type": "code",
   "execution_count": 23,
   "metadata": {
    "collapsed": true
   },
   "outputs": [],
   "source": [
    "#Load previously computed weights\n",
    "weights = np.load('./02errorRateWeights.npz')\n",
    "w0 = weights['w0']\n",
    "w1 = weights['w1']\n",
    "w2 = weights['w2']"
   ]
  },
  {
   "cell_type": "code",
   "execution_count": 36,
   "metadata": {},
   "outputs": [
    {
     "name": "stderr",
     "output_type": "stream",
     "text": [
      "/usr/local/Cellar/ipython@5/5.5.0_1/libexec/vendor/lib/python2.7/site-packages/ipykernel_launcher.py:5: RuntimeWarning: overflow encountered in exp\n",
      "  \"\"\"\n"
     ]
    },
    {
     "data": {
      "text/plain": [
       "0.29621425950333707"
      ]
     },
     "execution_count": 36,
     "metadata": {},
     "output_type": "execute_result"
    }
   ],
   "source": [
    "validate()"
   ]
  }
 ],
 "metadata": {
  "kernelspec": {
   "display_name": "Python 2",
   "language": "python",
   "name": "python2"
  },
  "language_info": {
   "codemirror_mode": {
    "name": "ipython",
    "version": 2
   },
   "file_extension": ".py",
   "mimetype": "text/x-python",
   "name": "python",
   "nbconvert_exporter": "python",
   "pygments_lexer": "ipython2",
   "version": "2.7.14"
  }
 },
 "nbformat": 4,
 "nbformat_minor": 2
}
