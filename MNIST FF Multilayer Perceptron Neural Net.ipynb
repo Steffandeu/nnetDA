{
 "cells": [
  {
   "cell_type": "code",
   "execution_count": 150,
   "metadata": {},
   "outputs": [],
   "source": [
    "import numpy as np\n",
    "from mnist import MNIST\n",
    "import matplotlib.pyplot as plt\n",
    "import matplotlib.image as mpimg\n",
    "\n",
    "import time"
   ]
  },
  {
   "cell_type": "code",
   "execution_count": 64,
   "metadata": {},
   "outputs": [],
   "source": [
    "# Load input data\n",
    "mndata = MNIST('./python-mnist/data')\n",
    "images, labels = mndata.load_training()\n",
    "X_all = np.array(images)\n",
    "Y_all = np.array(labels)"
   ]
  },
  {
   "cell_type": "code",
   "execution_count": 28,
   "metadata": {},
   "outputs": [
    {
     "data": {
      "image/png": "[encoded data removed]",
      "text/plain": [
       "<matplotlib.figure.Figure at 0x1182c7350>"
      ]
     },
     "metadata": {},
     "output_type": "display_data"
    }
   ],
   "source": [
    "# View sample of data\n",
    "view = np.array(images[0])\n",
    "view = np.reshape(view,(28,28))\n",
    "plt.imshow(view)\n",
    "plt.title('MNIST Data Sample: %s digit' % labels[0])\n",
    "plt.show()"
   ]
  },
  {
   "cell_type": "code",
   "execution_count": 152,
   "metadata": {},
   "outputs": [],
   "source": [
    "# Subset Samples for training, validation\n",
    "np.random.seed(1)\n",
    "\n",
    "# Map y-labels to 10-vector\n",
    "mapping = {}\n",
    "for i in xrange(10):\n",
    "    mapping[i] = np.insert(np.zeros(9),i,1)\n",
    "Y_mapped = np.array([mapping[x] for x in Y_all])\n",
    "    \n",
    "# For now, choose first 1000 for training, later it's better to choose a random sample\n",
    "X_train = X_all[0:1000,:].T\n",
    "Y_train = Y_mapped[0:1000].T\n",
    "\n",
    "X_validate = X_all[1001:2000,:].T\n",
    "Y_validate = Y_mapped[1001:2000].T"
   ]
  },
  {
   "cell_type": "code",
   "execution_count": null,
   "metadata": {
    "collapsed": true
   },
   "outputs": [],
   "source": [
    "np.random.seed(1)\n",
    "#Input -> l1 Weight matrix has to be np.shape = (785, 200) extra bias term\n",
    "w0 = 2*np.random.random((layer_in + 1, layer1)) - 1\n",
    "# l1 -> l2 Weight matrix has to be np.shape = (201, 100) extra bias term\n",
    "w1 = 2*np.random.random((layer1 + 1, layer2)) - 1\n",
    "#l2 -> Output Weight matrix has to be np.shape = (101, 10) extra bias term\n",
    "w2 = 2*np.random.random((layer2 + 1, layer_out)) - 1"
   ]
  },
  {
   "cell_type": "code",
   "execution_count": 163,
   "metadata": {
    "collapsed": true
   },
   "outputs": [],
   "source": [
    "#Architecture & Hyperparameters\n",
    "#Going to try a small one to start, 2 hidden layers with 200 units and 100 units respectively\n",
    "layer_in = 784\n",
    "layer1 = 200\n",
    "layer2 = 100\n",
    "layer_out = 10\n",
    "alpha = 0.5\n",
    "error_threshold = 0.02\n"
   ]
  },
  {
   "cell_type": "code",
   "execution_count": 160,
   "metadata": {
    "collapsed": true
   },
   "outputs": [],
   "source": [
    "def sigmoid(x, deriv=False):\n",
    "    if deriv:\n",
    "        return x * (1 - x)\n",
    "    else:\n",
    "        return 1 / (1 + np.exp(-x))"
   ]
  },
  {
   "cell_type": "code",
   "execution_count": 164,
   "metadata": {},
   "outputs": [
    {
     "name": "stderr",
     "output_type": "stream",
     "text": [
      "/usr/local/Cellar/ipython@5/5.5.0_1/libexec/vendor/lib/python2.7/site-packages/ipykernel_launcher.py:5: RuntimeWarning: overflow encountered in exp\n",
      "  \"\"\"\n"
     ]
    },
    {
     "name": "stdout",
     "output_type": "stream",
     "text": [
      "Iteration 10, Error: 0.048488\n",
      "Iteration 20, Error: 0.046985\n",
      "Iteration 30, Error: 0.045513\n",
      "Iteration 40, Error: 0.044113\n",
      "Iteration 50, Error: 0.042761\n",
      "Iteration 60, Error: 0.041444\n",
      "Iteration 70, Error: 0.040178\n",
      "Iteration 80, Error: 0.038954\n",
      "Iteration 90, Error: 0.037770\n",
      "Iteration 100, Error: 0.036615\n",
      "Iteration 110, Error: 0.035508\n",
      "Iteration 120, Error: 0.034432\n",
      "Iteration 130, Error: 0.033320\n",
      "Iteration 140, Error: 0.032214\n",
      "Iteration 150, Error: 0.031240\n",
      "Iteration 160, Error: 0.030263\n",
      "Iteration 170, Error: 0.029349\n",
      "Iteration 180, Error: 0.028562\n",
      "Iteration 190, Error: 0.027625\n",
      "Iteration 200, Error: 0.026788\n",
      "Iteration 210, Error: 0.025996\n",
      "Iteration 220, Error: 0.025208\n",
      "Iteration 230, Error: 0.024435\n",
      "Iteration 240, Error: 0.023704\n",
      "Iteration 250, Error: 0.022995\n",
      "Iteration 260, Error: 0.022311\n",
      "Iteration 270, Error: 0.021637\n",
      "Iteration 280, Error: 0.020992\n",
      "Iteration 290, Error: 0.020322\n",
      "Training to 0.020000 error rate took 3126 seconds.\n"
     ]
    }
   ],
   "source": [
    "#Training\n",
    "tot_error = 1\n",
    "counter = 1\n",
    "\n",
    "tstart = time.time()\n",
    "while (tot_error > error_threshold):\n",
    "    # forward prop\n",
    "    # load in input & label\n",
    "    x0 = np.hstack((np.ones((X_train.shape[1],1)),X_train.T)).T # matrix shape (785, n(examples))\n",
    "    y = Y_train # matrix shape (10,n)\n",
    "    N_examples = x0.shape[1]\n",
    "    \n",
    "    # propagate forward \n",
    "    x1 = np.hstack((np.ones((N_examples,1)), sigmoid(w0.T.dot(x0)).T)).T # vector length 201\n",
    "    x2 = np.hstack((np.ones((N_examples,1)), sigmoid(w1.T.dot(x1)).T)).T # vector length 101\n",
    "    x3 = sigmoid(w2.T.dot(x2)) # vector length 10\n",
    "    \n",
    "    # backprop\n",
    "    # calculate errors\n",
    "    tot_error = sum(sum((x3 - y)**2 / (2 * N_examples)))\n",
    "    l3_delta = (x3 - y) # matrix shape (10,n)\n",
    "    l2_delta = sigmoid(x2[1:], True)*w2[1:,:].dot(l3_delta) # matrix shape (100, n)\n",
    "    l1_delta = sigmoid(x1[1:], True)*w1[1:,:].dot(l2_delta) # matrix shape (200, n)\n",
    "    \n",
    "    # calculate gradients\n",
    "    l3_grad = l3_delta[np.newaxis, :, :] * x2[:, np.newaxis, :] # matrix shape (101, 10, n)\n",
    "    l2_grad = l2_delta[np.newaxis, :, :] * x1[:, np.newaxis, :] # matrix shape (201, 100, n)\n",
    "    l1_grad = l1_delta[np.newaxis, :, :] * x0[:, np.newaxis, :] # matrix shape (785, 200, n)\n",
    "    \n",
    "    # find total gradient across all examples\n",
    "    l3_totgrad = np.average(l3_grad, axis=2) # matrix shape (101,10)\n",
    "    l2_totgrad = np.average(l2_grad, axis=2) # matrix shape (201,100)\n",
    "    l1_totgrad = np.average(l1_grad, axis=2) # matrix shape (785,200)\n",
    "    \n",
    "    # update weights\n",
    "    w2 += -alpha*l3_totgrad # update weight 2-> 3\n",
    "    w1 += -alpha*l2_totgrad # update weight 1->2\n",
    "    w0 += -alpha*l1_totgrad # update weight 0->1\n",
    "    \n",
    "    counter += 1\n",
    "    if counter % 10 == 0:\n",
    "        print \"Iteration %d, Error: %f\" % (counter, tot_error)\n",
    "        \n",
    "print \"Training to %f error rate took %d seconds.\" % (error_threshold, time.time()-tstart)"
   ]
  },
  {
   "cell_type": "code",
   "execution_count": 141,
   "metadata": {
    "collapsed": true
   },
   "outputs": [],
   "source": [
    "# Validation\n",
    "def validate():\n",
    "    # forward prop\n",
    "    # load in input & label\n",
    "    x0 = np.hstack((np.ones((X_validate.shape[1],1)),X_validate.T)).T # matrix shape (785, n(examples))\n",
    "    y = Y_validate # matrix shape (10,n)\n",
    "    N_examples = x0.shape[1]\n",
    "    \n",
    "    # propagate forward \n",
    "    x1 = np.hstack((np.ones((N_examples,1)), sigmoid(w0.T.dot(x0)).T)).T # vector length 201\n",
    "    x2 = np.hstack((np.ones((N_examples,1)), sigmoid(w1.T.dot(x1)).T)).T # vector length 101\n",
    "    x3 = sigmoid(w2.T.dot(x2)) # vector length 10\n",
    "    \n",
    "    # backprop\n",
    "    # calculate errors\n",
    "    tot_error = sum(sum((x3 - y)**2 / (2 * N_examples)))\n",
    "    return tot_error\n",
    "    \n",
    "def find_labels(x):\n",
    "    x0 = np.hstack((np.ones((x.shape[0],1)),x)).T # matrix shape (785, n(examples))\n",
    "    print x0\n",
    "    N_examples = x0.shape[1]\n",
    "    \n",
    "    # propagate forward \n",
    "    x1 = np.hstack((np.ones((N_examples,1)), sigmoid(w0.T.dot(x0)).T)).T # vector length 201\n",
    "    x2 = np.hstack((np.ones((N_examples,1)), sigmoid(w1.T.dot(x1)).T)).T # vector length 101\n",
    "    x3 = sigmoid(w2.T.dot(x2)) # vector length 10\n",
    "    \n",
    "    \n",
    "    return np.argmax(x3, axis=0)"
   ]
  },
  {
   "cell_type": "code",
   "execution_count": 130,
   "metadata": {},
   "outputs": [],
   "source": [
    "xtest = X_all[0:2]\n",
    "x0 = np.hstack((np.ones((xtest.shape[0],1)),xtest)).T # matrix shape (785, n(examples))\n"
   ]
  },
  {
   "cell_type": "code",
   "execution_count": null,
   "metadata": {},
   "outputs": [],
   "source": [
    "#Load previously computed weights"
   ]
  },
  {
   "cell_type": "code",
   "execution_count": 166,
   "metadata": {},
   "outputs": [
    {
     "name": "stderr",
     "output_type": "stream",
     "text": [
      "/usr/local/Cellar/ipython@5/5.5.0_1/libexec/vendor/lib/python2.7/site-packages/ipykernel_launcher.py:5: RuntimeWarning: overflow encountered in exp\n",
      "  \"\"\"\n"
     ]
    },
    {
     "data": {
      "text/plain": [
       "0.191942398505874"
      ]
     },
     "execution_count": 166,
     "metadata": {},
     "output_type": "execute_result"
    }
   ],
   "source": [
    "validate()"
   ]
  }
 ],
 "metadata": {
  "kernelspec": {
   "display_name": "Python 2",
   "language": "python",
   "name": "python2"
  },
  "language_info": {
   "codemirror_mode": {
    "name": "ipython",
    "version": 2
   },
   "file_extension": ".py",
   "mimetype": "text/x-python",
   "name": "python",
   "nbconvert_exporter": "python",
   "pygments_lexer": "ipython2",
   "version": "2.7.14"
  }
 },
 "nbformat": 4,
 "nbformat_minor": 2
}
