{
 "cells": [
  {
   "cell_type": "code",
   "execution_count": 1,
   "metadata": {
    "collapsed": true
   },
   "outputs": [],
   "source": [
    "import numpy as np\n",
    "import sys\n",
    "import matplotlib.pyplot as plt\n",
    "from matplotlib.pyplot import imshow"
   ]
  },
  {
   "cell_type": "code",
   "execution_count": 2,
   "metadata": {},
   "outputs": [
    {
     "name": "stdout",
     "output_type": "stream",
     "text": [
      "How many training examples points were given?\n",
      "50\n",
      "How big were the hidden layers?\n",
      "Separate sizes for all examples by spaces\n",
      "20\n",
      "How many hidden layers?\n",
      "1\n"
     ]
    }
   ],
   "source": [
    "#Information to build network size\n",
    "Ntraining = int(input('How many training examples points were given?\\n'))\n",
    "RM = 1.0\n",
    "RF0 = 1.0E-8 * RM\n",
    "alpha = 1.1\n",
    "b0 = 0\n",
    "bf = 435\n",
    "#number of beta values -1 (because we start at zero)\n",
    "\n",
    "tops = 1\n",
    "centered = 0\n",
    "\n",
    "D =np.asarray(list(map(int, input('How big were the hidden layers?\\nSeparate sizes for all examples by spaces\\n').split())))\n",
    "#This will run all of the examples done. So for x hidden layers, you can run y = [y1 y2 y3 y4...] size hidden layer examples simultaneousl\n",
    "\n",
    "N= int(input('How many hidden layers?\\n'))"
   ]
  },
  {
   "cell_type": "markdown",
   "metadata": {},
   "source": [
    "training examples points: 20\n",
    "hidden layers: 5 20 30 40 50 100 200 300 400\n",
    "Hidden layers: 1"
   ]
  },
  {
   "cell_type": "code",
   "execution_count": 3,
   "metadata": {
    "collapsed": true
   },
   "outputs": [],
   "source": [
    "#taking above information to build network with connectivity\n",
    "structure = np.zeros((len(D), 2+N))\n",
    "for i in range(len(D)):\n",
    "    structure[i,1:-1]=np.repeat(D[i],N)\n",
    "    #size of hidden layers\n",
    "    \n",
    "    structure[:,0] = 784\n",
    "    #size of input layer\n",
    "    \n",
    "    structure[:,-1] = 10\n",
    "    #size of output layer\n",
    "\n",
    "Nbias = np.sum(structure[:,1:],axis=1)\n",
    "Nweight = np.sum(structure[:,1:]*structure[:,:-1],axis = 1)\n",
    "\n",
    "Nbeta = bf - b0 + 1\n",
    "beta = np.linspace(b0, bf, Nbeta)\n",
    "g = (RF0/RM * alpha**beta)\n",
    "\n",
    "def sigmoid(x, W, b):\n",
    "    linpart = np.dot(W, x) + b\n",
    "    return 1.0 / (1.0 + np.exp(-linpart))"
   ]
  },
  {
   "cell_type": "code",
   "execution_count": 6,
   "metadata": {},
   "outputs": [],
   "source": [
    "Action = np.zeros(len(D))\n",
    "sorting= np.zeros(len(D))\n",
    "for i in range(len(D)):\n",
    "    sorting[i] = np.loadtxt('../boom/DH{0}_{1}ex/sorted_indices.dat'.format(D[i],Ntraining))[-1,0]\n",
    "    #second index tells you to which path you're interested in. 0 gives lowest, -1 gives highest\n",
    "    #first index tells you that we want biggest beta value\n",
    "\n",
    "sorting = sorting.astype(int)\n",
    "\n",
    "for i in range(len(D)):\n",
    "    Action[i] = np.load('../boom/DH{0}_{1}ex/action_errors_{2}.npy'.format(D[i], Ntraining, sorting[i]+1))[-1,1]\n",
    "    #First index tells you that we want biggest beta value\n",
    "    #second index is just the scaling type (set by Paul in the output of his Varanneal)"
   ]
  },
  {
   "cell_type": "code",
   "execution_count": 7,
   "metadata": {},
   "outputs": [
    {
     "name": "stdout",
     "output_type": "stream",
     "text": [
      "finished the example with 20 neurons in the hidden layer\n",
      "\n"
     ]
    }
   ],
   "source": [
    "xtest_intot = np.load(\"../data_from_sharedrive/imtrain_noisy_[1, 7].npy\")\n",
    "xtest_outtot = np.load(\"../data_from_sharedrive/labtrain_noisy_[1, 7].npy\")\n",
    "\n",
    "numberpredict = 1000\n",
    "error = np.zeros(len(D))\n",
    "\n",
    "for i in range(len(D)):\n",
    "    for z in np.arange(Ntraining+1,Ntraining+1+numberpredict):\n",
    "        # Load estimated parameters\n",
    "        levelidx = sorting[i]  # init index of i-th action level\n",
    "        #levelidx = 0  # manually set init index\n",
    "\n",
    "        # Load estimated weights and biases for \n",
    "        W = np.load(\"../boom/DH{0}_{1}ex/W_{2}.npy\".format(D[i], Ntraining, levelidx + 1), encoding = 'latin1')\n",
    "        b = np.load(\"../boom/DH{0}_{1}ex/b_{2}.npy\".format(D[i], Ntraining, levelidx + 1), encoding = 'latin1')\n",
    "\n",
    "    # Predict against the test example\n",
    "    #x = np.copy(xtest_in)\n",
    "\n",
    "        total = numberpredict -Ntraining\n",
    "        done = z - Ntraining\n",
    "        \n",
    "        xtest_in = np.reshape(xtest_intot[z], (784,))\n",
    "        xtest_out = xtest_outtot[z]\n",
    "\n",
    "        x = np.copy(xtest_in)\n",
    "        xpred_out = xtest_out\n",
    "        for n in range(N+1):\n",
    "            x = sigmoid(x, W[-1, n], b[-1, n])\n",
    "        xpred_in = np.copy(xtest_in)\n",
    "        xpred_out = np.vstack((xpred_out,x))\n",
    "        if z == Ntraining+1:\n",
    "            predictlabel = [xpred_out[[0,-1],:]]\n",
    "            dataused = [x]\n",
    "        else:\n",
    "            predictlabel = np.vstack((predictlabel,[xpred_out[[0,-1],:]]))\n",
    "            dataused = np.vstack((dataused,[x]))\n",
    "    machineoutput = predictlabel[:,1]\n",
    "    correctoutput = predictlabel[:,0]\n",
    "    machineoutput = np.exp(machineoutput)-1\n",
    "    normalization = np.reshape(np.sum(machineoutput, axis = 1), (numberpredict,1))\n",
    "    machineoutput_normalized = np.divide(machineoutput, normalization)\n",
    "    error[i] = np.divide(np.sum(np.square(np.subtract(machineoutput_normalized, correctoutput))),numberpredict*10)\n",
    "    print('finished the example with {0} neurons in the hidden layer\\n'.format(D[i]))"
   ]
  },
  {
   "cell_type": "code",
   "execution_count": 8,
   "metadata": {
    "collapsed": true
   },
   "outputs": [],
   "source": [
    "np.savetxt('../boom/DH-20ex-{0}test-bigaction.txt'.format(numberpredict),D)\n",
    "np.savetxt('../boom/PE-20ex-{0}test-bigaction.txt'.format(numberpredict),error)\n",
    "np.savetxt('../boom/Action-20ex-{0}test-bigaction.txt'.format(numberpredict),Action)"
   ]
  },
  {
   "cell_type": "code",
   "execution_count": 9,
   "metadata": {},
   "outputs": [
    {
     "data": {
      "image/png": "[encoded data removed]",
      "text/plain": [
       "<matplotlib.figure.Figure at 0x10ab63f28>"
      ]
     },
     "metadata": {},
     "output_type": "display_data"
    }
   ],
   "source": [
    "plt.plot(D, Action, 'o')\n",
    "plt.yscale('log')\n",
    "plt.xlabel('Number of Hidden Neurons in Layer')\n",
    "plt.ylabel('Lowest Action Value/Value Action Levels off to')\n",
    "plt.title('Hidden Layer Size vs Action Value\\n{0} training examples'.format(Ntraining))\n",
    "plt.savefig('../results_from_sharedrive/adapt_mnist_N3/ActionVsDH_{0}ex.png'.format(Ntraining))\n",
    "plt.show()"
   ]
  },
  {
   "cell_type": "code",
   "execution_count": 10,
   "metadata": {},
   "outputs": [
    {
     "name": "stdout",
     "output_type": "stream",
     "text": [
      "0.09\n"
     ]
    }
   ],
   "source": [
    "#calculates error from random guess\n",
    "\n",
    "test = np.array([0.5, 0.5, 0.5, 0.5,0.5,0.5,0.5,0.5,0.5,0.5])\n",
    "test = np.exp(test)-1\n",
    "test_norm = np.sum(test)\n",
    "test = np.divide(test,test_norm)\n",
    "testerror = np.divide(np.sum(np.square(np.subtract(test, np.array([1, 0, 0, 0,0,0,0,0,0,0])))), 10)\n",
    "print(testerror)"
   ]
  },
  {
   "cell_type": "code",
   "execution_count": 11,
   "metadata": {},
   "outputs": [
    {
     "data": {
      "image/png": "[encoded data removed]",
      "text/plain": [
       "<matplotlib.figure.Figure at 0x10ac90f60>"
      ]
     },
     "metadata": {},
     "output_type": "display_data"
    }
   ],
   "source": [
    "plt.plot(Action, error,'o')\n",
    "plt.xlabel('Lowest Value Action Assymptotes to')\n",
    "plt.ylabel('Prediction Error for New Data')\n",
    "plt.xscale('log')\n",
    "plt.yscale('log')\n",
    "plt.axhline(y=testerror, color = 'r')\n",
    "plt.title('Action vs Prediction Error\\n{0} training examples'.format(Ntraining))\n",
    "plt.savefig('../results_from_sharedrive/adapt_mnist_N3/ErrorVsAction_{0}ex.png'.format(Ntraining))\n",
    "plt.show()"
   ]
  },
  {
   "cell_type": "code",
   "execution_count": 12,
   "metadata": {},
   "outputs": [
    {
     "data": {
      "image/png": "[encoded data removed]",
      "text/plain": [
       "<matplotlib.figure.Figure at 0x10aeeee80>"
      ]
     },
     "metadata": {},
     "output_type": "display_data"
    }
   ],
   "source": [
    "plt.plot(D, error,'o')\n",
    "plt.xlabel('Neurons in Hidden Layer')\n",
    "plt.ylabel('Prediction Error for New Data')\n",
    "plt.yscale('log')\n",
    "plt.title('Action vs Size of Hidden Layer\\n{0} training examples'.format(Ntraining))\n",
    "plt.axhline(y=testerror, color = 'r')\n",
    "plt.savefig('../results_from_sharedrive/adapt_mnist_N3/ErrorVsDH_{0}ex.png'.format(Ntraining))\n",
    "plt.show()"
   ]
  },
  {
   "cell_type": "code",
   "execution_count": null,
   "metadata": {
    "collapsed": true
   },
   "outputs": [],
   "source": []
  }
 ],
 "metadata": {
  "kernelspec": {
   "display_name": "Python 3",
   "language": "python",
   "name": "python3"
  },
  "language_info": {
   "codemirror_mode": {
    "name": "ipython",
    "version": 3
   },
   "file_extension": ".py",
   "mimetype": "text/x-python",
   "name": "python",
   "nbconvert_exporter": "python",
   "pygments_lexer": "ipython3",
   "version": "3.6.3"
  }
 },
 "nbformat": 4,
 "nbformat_minor": 1
}
