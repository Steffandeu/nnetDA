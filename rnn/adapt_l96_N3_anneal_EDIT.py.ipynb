{
 "cells": [
  {
   "cell_type": "code",
   "execution_count": 9,
   "metadata": {},
   "outputs": [
    {
     "name": "stdout",
     "output_type": "stream",
     "text": [
      "[[  4.77872326e-01   4.83983070e-02  -4.45471895e-02   4.16062106e-01\n",
      "    8.30540397e-01   7.50000000e+00]\n",
      " [  4.26120080e-01   5.53380967e-02   3.21603916e-02   3.36730079e-01\n",
      "    8.09706688e-01   7.51000000e+00]\n",
      " [  3.65363120e-01  -8.21828017e-03   3.12335968e-03   3.41132684e-01\n",
      "    8.26680534e-01   7.52000000e+00]\n",
      " ..., \n",
      " [ -1.61886382e-01  -5.32953509e-02   2.92759692e-01   8.22463527e-01\n",
      "   -6.21747899e-02   9.99700000e+01]\n",
      " [ -1.67736602e-01   2.38113691e-02   2.21874481e-01   8.90044627e-01\n",
      "   -1.30044317e-01   9.99800000e+01]\n",
      " [ -6.73404759e-02  -6.51899290e-03   2.92194639e-01   8.77305648e-01\n",
      "   -1.85483884e-01   9.99900000e+01]]\n",
      "------------------------------\n",
      "Step 1 of 436\n",
      "beta = 0, RF = 1.16666667e-08\n",
      "\n",
      "Taping action evaluation...\n",
      "Done!\n",
      "Time = 18.2810828686 s\n",
      "\n",
      "Beginning optimization...\n"
     ]
    },
    {
     "ename": "KeyboardInterrupt",
     "evalue": "",
     "output_type": "error",
     "traceback": [
      "\u001b[0;31m---------------------------------------------------------------------------\u001b[0m",
      "\u001b[0;31mKeyboardInterrupt\u001b[0m                         Traceback (most recent call last)",
      "\u001b[0;32m<ipython-input-9-b6676e9d46c1>\u001b[0m in \u001b[0;36m<module>\u001b[0;34m()\u001b[0m\n\u001b[1;32m    154\u001b[0m \u001b[0mtstart\u001b[0m \u001b[0;34m=\u001b[0m \u001b[0mtime\u001b[0m\u001b[0;34m.\u001b[0m\u001b[0mtime\u001b[0m\u001b[0;34m(\u001b[0m\u001b[0;34m)\u001b[0m\u001b[0;34m\u001b[0m\u001b[0m\n\u001b[1;32m    155\u001b[0m anneal1.anneal(X0, P0, alpha, beta_array, RM, RF0, Pidx, Lidx=Lidx,\n\u001b[0;32m--> 156\u001b[0;31m                method='L-BFGS-B', opt_args=BFGS_options, adolcID=adolcID)\n\u001b[0m\u001b[1;32m    157\u001b[0m \u001b[0;32mprint\u001b[0m\u001b[0;34m(\u001b[0m\u001b[0;34m\"\\nADOL-C annealing completed in %f s.\"\u001b[0m\u001b[0;34m%\u001b[0m\u001b[0;34m(\u001b[0m\u001b[0mtime\u001b[0m\u001b[0;34m.\u001b[0m\u001b[0mtime\u001b[0m\u001b[0;34m(\u001b[0m\u001b[0;34m)\u001b[0m \u001b[0;34m-\u001b[0m \u001b[0mtstart\u001b[0m\u001b[0;34m)\u001b[0m\u001b[0;34m)\u001b[0m\u001b[0;34m\u001b[0m\u001b[0m\n\u001b[1;32m    158\u001b[0m \u001b[0;34m\u001b[0m\u001b[0m\n",
      "\u001b[0;32m/home/rivvergonzalez/.local/lib/python2.7/site-packages/varanneal-0.1-py2.7.egg/varanneal/va_nnet.pyc\u001b[0m in \u001b[0;36manneal\u001b[0;34m(self, X0, P0, alpha, beta_array, RM, RF0, Pidx, Lidx, init_to_data, action, disc, method, bounds, opt_args, adolcID)\u001b[0m\n\u001b[1;32m    284\u001b[0m             \u001b[0;32mprint\u001b[0m\u001b[0;34m(\u001b[0m\u001b[0;34m'beta = %d, RF = %.8e'\u001b[0m\u001b[0;34m%\u001b[0m\u001b[0;34m(\u001b[0m\u001b[0mself\u001b[0m\u001b[0;34m.\u001b[0m\u001b[0mbeta\u001b[0m\u001b[0;34m,\u001b[0m \u001b[0mself\u001b[0m\u001b[0;34m.\u001b[0m\u001b[0mRF\u001b[0m\u001b[0;34m)\u001b[0m\u001b[0;34m)\u001b[0m\u001b[0;34m\u001b[0m\u001b[0m\n\u001b[1;32m    285\u001b[0m             \u001b[0;32mprint\u001b[0m\u001b[0;34m(\u001b[0m\u001b[0;34m''\u001b[0m\u001b[0;34m)\u001b[0m\u001b[0;34m\u001b[0m\u001b[0m\n\u001b[0;32m--> 286\u001b[0;31m             \u001b[0mself\u001b[0m\u001b[0;34m.\u001b[0m\u001b[0manneal_step\u001b[0m\u001b[0;34m(\u001b[0m\u001b[0;34m)\u001b[0m\u001b[0;34m\u001b[0m\u001b[0m\n\u001b[0m\u001b[1;32m    287\u001b[0m \u001b[0;34m\u001b[0m\u001b[0m\n\u001b[1;32m    288\u001b[0m     def anneal_init(self, X0, P0, alpha, beta_array, RM, RF0, Pidx, Lidx=None,\n",
      "\u001b[0;32m/home/rivvergonzalez/.local/lib/python2.7/site-packages/varanneal-0.1-py2.7.egg/varanneal/va_nnet.pyc\u001b[0m in \u001b[0;36manneal_step\u001b[0;34m(self)\u001b[0m\n\u001b[1;32m    481\u001b[0m \u001b[0;34m\u001b[0m\u001b[0m\n\u001b[1;32m    482\u001b[0m             \u001b[0;32mif\u001b[0m \u001b[0mself\u001b[0m\u001b[0;34m.\u001b[0m\u001b[0mmethod\u001b[0m \u001b[0;34m==\u001b[0m \u001b[0;34m'L-BFGS-B'\u001b[0m\u001b[0;34m:\u001b[0m\u001b[0;34m\u001b[0m\u001b[0m\n\u001b[0;32m--> 483\u001b[0;31m                 \u001b[0mXPmin\u001b[0m\u001b[0;34m,\u001b[0m \u001b[0mAmin\u001b[0m\u001b[0;34m,\u001b[0m \u001b[0mexitflag\u001b[0m \u001b[0;34m=\u001b[0m \u001b[0mself\u001b[0m\u001b[0;34m.\u001b[0m\u001b[0mmin_lbfgs_scipy\u001b[0m\u001b[0;34m(\u001b[0m\u001b[0mXP0\u001b[0m\u001b[0;34m,\u001b[0m \u001b[0mself\u001b[0m\u001b[0;34m.\u001b[0m\u001b[0mgen_xtrace\u001b[0m\u001b[0;34m(\u001b[0m\u001b[0;34m)\u001b[0m\u001b[0;34m)\u001b[0m\u001b[0;34m\u001b[0m\u001b[0m\n\u001b[0m\u001b[1;32m    484\u001b[0m             \u001b[0;32melif\u001b[0m \u001b[0mself\u001b[0m\u001b[0;34m.\u001b[0m\u001b[0mmethod\u001b[0m \u001b[0;34m==\u001b[0m \u001b[0;34m'NCG'\u001b[0m\u001b[0;34m:\u001b[0m\u001b[0;34m\u001b[0m\u001b[0m\n\u001b[1;32m    485\u001b[0m                 \u001b[0mXPmin\u001b[0m\u001b[0;34m,\u001b[0m \u001b[0mAmin\u001b[0m\u001b[0;34m,\u001b[0m \u001b[0mexitflag\u001b[0m \u001b[0;34m=\u001b[0m \u001b[0mself\u001b[0m\u001b[0;34m.\u001b[0m\u001b[0mmin_cg_scipy\u001b[0m\u001b[0;34m(\u001b[0m\u001b[0mXP0\u001b[0m\u001b[0;34m,\u001b[0m \u001b[0mself\u001b[0m\u001b[0;34m.\u001b[0m\u001b[0mgen_xtrace\u001b[0m\u001b[0;34m(\u001b[0m\u001b[0;34m)\u001b[0m\u001b[0;34m)\u001b[0m\u001b[0;34m\u001b[0m\u001b[0m\n",
      "\u001b[0;32m/home/rivvergonzalez/.local/lib/python2.7/site-packages/varanneal-0.1-py2.7.egg/varanneal/_autodiffmin.pyc\u001b[0m in \u001b[0;36mmin_lbfgs_scipy\u001b[0;34m(self, XP0, xtrace)\u001b[0m\n\u001b[1;32m     84\u001b[0m         \u001b[0mtstart\u001b[0m \u001b[0;34m=\u001b[0m \u001b[0mtime\u001b[0m\u001b[0;34m.\u001b[0m\u001b[0mtime\u001b[0m\u001b[0;34m(\u001b[0m\u001b[0;34m)\u001b[0m\u001b[0;34m\u001b[0m\u001b[0m\n\u001b[1;32m     85\u001b[0m         res = opt.minimize(self.A_gradA_taped, XP0, method='L-BFGS-B', jac=True,\n\u001b[0;32m---> 86\u001b[0;31m                            options=self.opt_args, bounds=self.bounds)\n\u001b[0m\u001b[1;32m     87\u001b[0m         \u001b[0mXPmin\u001b[0m\u001b[0;34m,\u001b[0m\u001b[0mstatus\u001b[0m\u001b[0;34m,\u001b[0m\u001b[0mAmin\u001b[0m \u001b[0;34m=\u001b[0m \u001b[0mres\u001b[0m\u001b[0;34m.\u001b[0m\u001b[0mx\u001b[0m\u001b[0;34m,\u001b[0m \u001b[0mres\u001b[0m\u001b[0;34m.\u001b[0m\u001b[0mstatus\u001b[0m\u001b[0;34m,\u001b[0m \u001b[0mres\u001b[0m\u001b[0;34m.\u001b[0m\u001b[0mfun\u001b[0m\u001b[0;34m\u001b[0m\u001b[0m\n\u001b[1;32m     88\u001b[0m \u001b[0;34m\u001b[0m\u001b[0m\n",
      "\u001b[0;32m/home/rivvergonzalez/.local/lib/python2.7/site-packages/scipy/optimize/_minimize.pyc\u001b[0m in \u001b[0;36mminimize\u001b[0;34m(fun, x0, args, method, jac, hess, hessp, bounds, constraints, tol, callback, options)\u001b[0m\n\u001b[1;32m    448\u001b[0m     \u001b[0;32melif\u001b[0m \u001b[0mmeth\u001b[0m \u001b[0;34m==\u001b[0m \u001b[0;34m'l-bfgs-b'\u001b[0m\u001b[0;34m:\u001b[0m\u001b[0;34m\u001b[0m\u001b[0m\n\u001b[1;32m    449\u001b[0m         return _minimize_lbfgsb(fun, x0, args, jac, bounds,\n\u001b[0;32m--> 450\u001b[0;31m                                 callback=callback, **options)\n\u001b[0m\u001b[1;32m    451\u001b[0m     \u001b[0;32melif\u001b[0m \u001b[0mmeth\u001b[0m \u001b[0;34m==\u001b[0m \u001b[0;34m'tnc'\u001b[0m\u001b[0;34m:\u001b[0m\u001b[0;34m\u001b[0m\u001b[0m\n\u001b[1;32m    452\u001b[0m         return _minimize_tnc(fun, x0, args, jac, bounds, callback=callback,\n",
      "\u001b[0;32m/home/rivvergonzalez/.local/lib/python2.7/site-packages/scipy/optimize/lbfgsb.pyc\u001b[0m in \u001b[0;36m_minimize_lbfgsb\u001b[0;34m(fun, x0, args, jac, bounds, disp, maxcor, ftol, gtol, eps, maxfun, maxiter, iprint, callback, maxls, **unknown_options)\u001b[0m\n\u001b[1;32m    326\u001b[0m             \u001b[0;31m# until the completion of the current minimization iteration.\u001b[0m\u001b[0;34m\u001b[0m\u001b[0;34m\u001b[0m\u001b[0m\n\u001b[1;32m    327\u001b[0m             \u001b[0;31m# Overwrite f and g:\u001b[0m\u001b[0;34m\u001b[0m\u001b[0;34m\u001b[0m\u001b[0m\n\u001b[0;32m--> 328\u001b[0;31m             \u001b[0mf\u001b[0m\u001b[0;34m,\u001b[0m \u001b[0mg\u001b[0m \u001b[0;34m=\u001b[0m \u001b[0mfunc_and_grad\u001b[0m\u001b[0;34m(\u001b[0m\u001b[0mx\u001b[0m\u001b[0;34m)\u001b[0m\u001b[0;34m\u001b[0m\u001b[0m\n\u001b[0m\u001b[1;32m    329\u001b[0m         \u001b[0;32melif\u001b[0m \u001b[0mtask_str\u001b[0m\u001b[0;34m.\u001b[0m\u001b[0mstartswith\u001b[0m\u001b[0;34m(\u001b[0m\u001b[0;34mb'NEW_X'\u001b[0m\u001b[0;34m)\u001b[0m\u001b[0;34m:\u001b[0m\u001b[0;34m\u001b[0m\u001b[0m\n\u001b[1;32m    330\u001b[0m             \u001b[0;31m# new iteration\u001b[0m\u001b[0;34m\u001b[0m\u001b[0;34m\u001b[0m\u001b[0m\n",
      "\u001b[0;32m/home/rivvergonzalez/.local/lib/python2.7/site-packages/scipy/optimize/lbfgsb.pyc\u001b[0m in \u001b[0;36mfunc_and_grad\u001b[0;34m(x)\u001b[0m\n\u001b[1;32m    276\u001b[0m     \u001b[0;32melse\u001b[0m\u001b[0;34m:\u001b[0m\u001b[0;34m\u001b[0m\u001b[0m\n\u001b[1;32m    277\u001b[0m         \u001b[0;32mdef\u001b[0m \u001b[0mfunc_and_grad\u001b[0m\u001b[0;34m(\u001b[0m\u001b[0mx\u001b[0m\u001b[0;34m)\u001b[0m\u001b[0;34m:\u001b[0m\u001b[0;34m\u001b[0m\u001b[0m\n\u001b[0;32m--> 278\u001b[0;31m             \u001b[0mf\u001b[0m \u001b[0;34m=\u001b[0m \u001b[0mfun\u001b[0m\u001b[0;34m(\u001b[0m\u001b[0mx\u001b[0m\u001b[0;34m,\u001b[0m \u001b[0;34m*\u001b[0m\u001b[0margs\u001b[0m\u001b[0;34m)\u001b[0m\u001b[0;34m\u001b[0m\u001b[0m\n\u001b[0m\u001b[1;32m    279\u001b[0m             \u001b[0mg\u001b[0m \u001b[0;34m=\u001b[0m \u001b[0mjac\u001b[0m\u001b[0;34m(\u001b[0m\u001b[0mx\u001b[0m\u001b[0;34m,\u001b[0m \u001b[0;34m*\u001b[0m\u001b[0margs\u001b[0m\u001b[0;34m)\u001b[0m\u001b[0;34m\u001b[0m\u001b[0m\n\u001b[1;32m    280\u001b[0m             \u001b[0;32mreturn\u001b[0m \u001b[0mf\u001b[0m\u001b[0;34m,\u001b[0m \u001b[0mg\u001b[0m\u001b[0;34m\u001b[0m\u001b[0m\n",
      "\u001b[0;32m/home/rivvergonzalez/.local/lib/python2.7/site-packages/scipy/optimize/optimize.pyc\u001b[0m in \u001b[0;36mfunction_wrapper\u001b[0;34m(*wrapper_args)\u001b[0m\n\u001b[1;32m    290\u001b[0m     \u001b[0;32mdef\u001b[0m \u001b[0mfunction_wrapper\u001b[0m\u001b[0;34m(\u001b[0m\u001b[0;34m*\u001b[0m\u001b[0mwrapper_args\u001b[0m\u001b[0;34m)\u001b[0m\u001b[0;34m:\u001b[0m\u001b[0;34m\u001b[0m\u001b[0m\n\u001b[1;32m    291\u001b[0m         \u001b[0mncalls\u001b[0m\u001b[0;34m[\u001b[0m\u001b[0;36m0\u001b[0m\u001b[0;34m]\u001b[0m \u001b[0;34m+=\u001b[0m \u001b[0;36m1\u001b[0m\u001b[0;34m\u001b[0m\u001b[0m\n\u001b[0;32m--> 292\u001b[0;31m         \u001b[0;32mreturn\u001b[0m \u001b[0mfunction\u001b[0m\u001b[0;34m(\u001b[0m\u001b[0;34m*\u001b[0m\u001b[0;34m(\u001b[0m\u001b[0mwrapper_args\u001b[0m \u001b[0;34m+\u001b[0m \u001b[0margs\u001b[0m\u001b[0;34m)\u001b[0m\u001b[0;34m)\u001b[0m\u001b[0;34m\u001b[0m\u001b[0m\n\u001b[0m\u001b[1;32m    293\u001b[0m \u001b[0;34m\u001b[0m\u001b[0m\n\u001b[1;32m    294\u001b[0m     \u001b[0;32mreturn\u001b[0m \u001b[0mncalls\u001b[0m\u001b[0;34m,\u001b[0m \u001b[0mfunction_wrapper\u001b[0m\u001b[0;34m\u001b[0m\u001b[0m\n",
      "\u001b[0;32m/home/rivvergonzalez/.local/lib/python2.7/site-packages/scipy/optimize/optimize.pyc\u001b[0m in \u001b[0;36m__call__\u001b[0;34m(self, x, *args)\u001b[0m\n\u001b[1;32m     61\u001b[0m     \u001b[0;32mdef\u001b[0m \u001b[0m__call__\u001b[0m\u001b[0;34m(\u001b[0m\u001b[0mself\u001b[0m\u001b[0;34m,\u001b[0m \u001b[0mx\u001b[0m\u001b[0;34m,\u001b[0m \u001b[0;34m*\u001b[0m\u001b[0margs\u001b[0m\u001b[0;34m)\u001b[0m\u001b[0;34m:\u001b[0m\u001b[0;34m\u001b[0m\u001b[0m\n\u001b[1;32m     62\u001b[0m         \u001b[0mself\u001b[0m\u001b[0;34m.\u001b[0m\u001b[0mx\u001b[0m \u001b[0;34m=\u001b[0m \u001b[0mnumpy\u001b[0m\u001b[0;34m.\u001b[0m\u001b[0masarray\u001b[0m\u001b[0;34m(\u001b[0m\u001b[0mx\u001b[0m\u001b[0;34m)\u001b[0m\u001b[0;34m.\u001b[0m\u001b[0mcopy\u001b[0m\u001b[0;34m(\u001b[0m\u001b[0;34m)\u001b[0m\u001b[0;34m\u001b[0m\u001b[0m\n\u001b[0;32m---> 63\u001b[0;31m         \u001b[0mfg\u001b[0m \u001b[0;34m=\u001b[0m \u001b[0mself\u001b[0m\u001b[0;34m.\u001b[0m\u001b[0mfun\u001b[0m\u001b[0;34m(\u001b[0m\u001b[0mx\u001b[0m\u001b[0;34m,\u001b[0m \u001b[0;34m*\u001b[0m\u001b[0margs\u001b[0m\u001b[0;34m)\u001b[0m\u001b[0;34m\u001b[0m\u001b[0m\n\u001b[0m\u001b[1;32m     64\u001b[0m         \u001b[0mself\u001b[0m\u001b[0;34m.\u001b[0m\u001b[0mjac\u001b[0m \u001b[0;34m=\u001b[0m \u001b[0mfg\u001b[0m\u001b[0;34m[\u001b[0m\u001b[0;36m1\u001b[0m\u001b[0;34m]\u001b[0m\u001b[0;34m\u001b[0m\u001b[0m\n\u001b[1;32m     65\u001b[0m         \u001b[0;32mreturn\u001b[0m \u001b[0mfg\u001b[0m\u001b[0;34m[\u001b[0m\u001b[0;36m0\u001b[0m\u001b[0;34m]\u001b[0m\u001b[0;34m\u001b[0m\u001b[0m\n",
      "\u001b[0;32m/home/rivvergonzalez/.local/lib/python2.7/site-packages/varanneal-0.1-py2.7.egg/varanneal/_autodiffmin.pyc\u001b[0m in \u001b[0;36mA_gradA_taped\u001b[0;34m(self, XP)\u001b[0m\n\u001b[1;32m     56\u001b[0m \u001b[0;34m\u001b[0m\u001b[0m\n\u001b[1;32m     57\u001b[0m     \u001b[0;32mdef\u001b[0m \u001b[0mA_gradA_taped\u001b[0m\u001b[0;34m(\u001b[0m\u001b[0mself\u001b[0m\u001b[0;34m,\u001b[0m \u001b[0mXP\u001b[0m\u001b[0;34m)\u001b[0m\u001b[0;34m:\u001b[0m\u001b[0;34m\u001b[0m\u001b[0m\n\u001b[0;32m---> 58\u001b[0;31m         \u001b[0;32mreturn\u001b[0m \u001b[0madolc\u001b[0m\u001b[0;34m.\u001b[0m\u001b[0mfunction\u001b[0m\u001b[0;34m(\u001b[0m\u001b[0mself\u001b[0m\u001b[0;34m.\u001b[0m\u001b[0madolcID\u001b[0m\u001b[0;34m,\u001b[0m \u001b[0mXP\u001b[0m\u001b[0;34m)\u001b[0m\u001b[0;34m,\u001b[0m \u001b[0madolc\u001b[0m\u001b[0;34m.\u001b[0m\u001b[0mgradient\u001b[0m\u001b[0;34m(\u001b[0m\u001b[0mself\u001b[0m\u001b[0;34m.\u001b[0m\u001b[0madolcID\u001b[0m\u001b[0;34m,\u001b[0m \u001b[0mXP\u001b[0m\u001b[0;34m)\u001b[0m\u001b[0;34m\u001b[0m\u001b[0m\n\u001b[0m\u001b[1;32m     59\u001b[0m \u001b[0;34m\u001b[0m\u001b[0m\n\u001b[1;32m     60\u001b[0m     \u001b[0;32mdef\u001b[0m \u001b[0mjacA_taped\u001b[0m\u001b[0;34m(\u001b[0m\u001b[0mself\u001b[0m\u001b[0;34m,\u001b[0m \u001b[0mXP\u001b[0m\u001b[0;34m)\u001b[0m\u001b[0;34m:\u001b[0m\u001b[0;34m\u001b[0m\u001b[0m\n",
      "\u001b[0;32m/home/rivvergonzalez/.local/lib/python2.7/site-packages/adolc/wrapped_functions.pyc\u001b[0m in \u001b[0;36mgradient\u001b[0;34m(tape_tag, x)\u001b[0m\n\u001b[1;32m    136\u001b[0m     \u001b[0;32massert\u001b[0m \u001b[0mnumpy\u001b[0m\u001b[0;34m.\u001b[0m\u001b[0mndim\u001b[0m\u001b[0;34m(\u001b[0m\u001b[0mx\u001b[0m\u001b[0;34m)\u001b[0m \u001b[0;34m==\u001b[0m \u001b[0;36m1\u001b[0m\u001b[0;34m\u001b[0m\u001b[0m\n\u001b[1;32m    137\u001b[0m     \u001b[0mg\u001b[0m \u001b[0;34m=\u001b[0m \u001b[0mnumpy\u001b[0m\u001b[0;34m.\u001b[0m\u001b[0mzeros\u001b[0m\u001b[0;34m(\u001b[0m\u001b[0mN\u001b[0m\u001b[0;34m,\u001b[0m \u001b[0mdtype\u001b[0m\u001b[0;34m=\u001b[0m\u001b[0mfloat\u001b[0m\u001b[0;34m)\u001b[0m\u001b[0;34m\u001b[0m\u001b[0m\n\u001b[0;32m--> 138\u001b[0;31m     \u001b[0mrc\u001b[0m \u001b[0;34m=\u001b[0m \u001b[0m_adolc\u001b[0m\u001b[0;34m.\u001b[0m\u001b[0mgradient\u001b[0m\u001b[0;34m(\u001b[0m\u001b[0mtape_tag\u001b[0m\u001b[0;34m,\u001b[0m \u001b[0mN\u001b[0m\u001b[0;34m,\u001b[0m \u001b[0mx\u001b[0m\u001b[0;34m,\u001b[0m \u001b[0mg\u001b[0m\u001b[0;34m)\u001b[0m\u001b[0;34m\u001b[0m\u001b[0m\n\u001b[0m\u001b[1;32m    139\u001b[0m     \u001b[0;32mif\u001b[0m \u001b[0;34m(\u001b[0m\u001b[0mrc\u001b[0m \u001b[0;34m<\u001b[0m \u001b[0;36m0\u001b[0m\u001b[0;34m)\u001b[0m\u001b[0;34m:\u001b[0m\u001b[0;34m\u001b[0m\u001b[0m\n\u001b[1;32m    140\u001b[0m         \u001b[0;32mraise\u001b[0m \u001b[0mErrorReturnCode\u001b[0m\u001b[0;34m(\u001b[0m\u001b[0;34m\"gradient\"\u001b[0m\u001b[0;34m,\u001b[0m \u001b[0mrc\u001b[0m\u001b[0;34m)\u001b[0m\u001b[0;34m\u001b[0m\u001b[0m\n",
      "\u001b[0;31mKeyboardInterrupt\u001b[0m: "
     ]
    }
   ],
   "source": [
    "\n",
    "# coding: utf-8\n",
    "\n",
    "# In[ ]:\n",
    "\n",
    "\n",
    "\"\"\"\n",
    "Example deep neural network annealing.\n",
    "\"\"\"\n",
    "\n",
    "import numpy as np\n",
    "from varanneal import va_nnet\n",
    "import sys, time\n",
    "\n",
    "ninit = 15#int(sys.argv[1])\n",
    "M = 150#int(sys.argv[2])\n",
    "D_hidden = 250#int(sys.argv[3])\n",
    "adolcID = 0#int(sys.argv[4])\n",
    "\n",
    "# Define the transfer function\n",
    "def tanh(x, W, b):\n",
    "    linpart = np.dot(W, x) + b\n",
    "    return (np.exp(linpart) - np.exp(-linpart)) / (np.exp(linpart) + np.exp(-linpart))\n",
    "\n",
    "# Network structure\n",
    "N = 3  # Total number of layers\n",
    "D_in = 200  # Number of neurons in the input layer\n",
    "D_out = 100  # Number of neurons in the output layer\n",
    "#D_hidden =   # Number of neurons in the hidden layers\n",
    "\n",
    "structure = np.zeros(N, dtype='int')\n",
    "structure[0] = D_in  # 3 neurons in the input layer\n",
    "structure[N-1] = D_out  # 2 neurons in the output layer\n",
    "for i in range(1, N-1):\n",
    "    structure[i] = D_hidden  # 5 neurons in the hidden layers\n",
    "\n",
    "Lidx = [np.linspace(0, D_in-1, D_in, dtype='int'), np.linspace(0, D_out-1, D_out, dtype='int')]\n",
    "\n",
    "################################################################################\n",
    "# Action/annealing parameters\n",
    "################################################################################\n",
    "# RM, RF0\n",
    "RM = 1.0\n",
    "RF0 = 1.0e-8 * RM * float(np.sum(structure) - structure[0]) / float(structure[0] + structure[-1])\n",
    "# alpha, and beta ladder\n",
    "alpha = 1.1\n",
    "beta_array = np.linspace(0, 435, 436)\n",
    "epochs = 5\n",
    "batch_size = 20\n",
    "################################################################################\n",
    "# Input and output data\n",
    "################################################################################\n",
    "\n",
    "print(np.load('5var_generated_l96_data/5var_l96_0.01/gen_l96_noisy_0.01.npy'))# has 5 l96 variables\n",
    "\n",
    "data  = np.load('5var_generated_l96_data/5var_l96_0.01/gen_l96_noisy_0.01.npy')[:,(0,5)]\n",
    "data = data[:]\n",
    "Didx = 0\n",
    "\n",
    "# normalize\n",
    "#data = data / np.max(np.abs(data))\n",
    "\n",
    "#add noise\n",
    "\n",
    "#noise = np.random.normal(scale=0.02, size=data.shape[0])\n",
    "#data[:, Didx] += noise\n",
    "\n",
    "#T = data.shape[1]\n",
    "\n",
    "data_in = np.zeros((M, D_in))\n",
    "data_out = np.zeros((M, D_out))\n",
    "\n",
    "for i in xrange(M):\n",
    "    data_in[i] = data[i+15:i+D_in+15, Didx]\n",
    "    data_out[i] = data[i+D_in+15:i+D_in+D_out+15, Didx]\n",
    "\n",
    "\n",
    "\n",
    "\n",
    "#train_examples = 10000\n",
    "#x_train = x_all[0:train_examples,:]\n",
    "#y_train = y_all[0:train_examples,:]\n",
    "\n",
    "################################################################################\n",
    "# Initial path/parameter guesses\n",
    "################################################################################\n",
    "DHmax = 1000\n",
    "ninitmax = 100\n",
    "np.random.seed(27509436 + (M-1)*D_in*DHmax*ninitmax + D_hidden*ninit)\n",
    "# Neuron states\n",
    "Xin = np.random.randn(D_in)\n",
    "Xin = (Xin - np.average(Xin)) / np.std(Xin)\n",
    "#X0 = [Xin]\n",
    "X0 = np.copy(Xin)\n",
    "for n in xrange(N-2):\n",
    "    X0 = np.append(X0, 0.2*np.random.rand(D_hidden) + 0.4)\n",
    "X0 = np.append(X0, 0.2*np.random.rand(D_out) + 0.4)\n",
    "\n",
    "for m in xrange(M - 1):\n",
    "    Xin = np.random.randn(D_in)\n",
    "    Xin = (Xin - np.average(Xin)) / np.std(Xin)\n",
    "    X0 = np.append(X0, Xin)\n",
    "    for n in xrange(N-2):\n",
    "        X0 = np.append(X0, 0.2*np.random.rand(D_hidden) + 0.4)\n",
    "    X0 = np.append(X0, 0.2*np.random.rand(D_out) + 0.4)\n",
    "\n",
    "X0 = np.array(X0).flatten()\n",
    "\n",
    "# Parameters\n",
    "NP = np.sum(structure[1:]*structure[:-1] + structure[1:])\n",
    "#Pidx = []\n",
    "P0 = np.array([], dtype=np.float64)\n",
    "\n",
    "W_i0 = 0\n",
    "W_if = structure[0]*structure[1]\n",
    "b_i0 = W_if\n",
    "b_if = b_i0 + structure[1]\n",
    "\n",
    "for n in xrange(N - 1):\n",
    "    if n == 0:\n",
    "        Pidx = np.arange(W_i0, W_if, 1, dtype='int')\n",
    "    else:\n",
    "        Pidx = np.append(Pidx, np.arange(W_i0, W_if, 1, dtype='int'))\n",
    "    if n == 0:\n",
    "        P0 = np.append(P0, (2.0*np.random.rand(structure[n]*structure[n+1]) - 1.0) / D_in)\n",
    "    else:\n",
    "        P0 = np.append(P0, (2.0*np.random.rand(structure[n]*structure[n+1]) - 1.0) / D_hidden)\n",
    "    P0 = np.append(P0, np.zeros(structure[n+1]))\n",
    "\n",
    "    if n < N - 2:\n",
    "        W_i0 = b_if\n",
    "        W_if = W_i0 + structure[n+1]*structure[n+2]\n",
    "        b_i0 = W_if\n",
    "        b_if = b_i0 + structure[n+2]\n",
    "\n",
    "P0 = np.array(P0).flatten()\n",
    "Pidx = np.array(Pidx).flatten().tolist()\n",
    "\n",
    "################################################################################\n",
    "# Annealing\n",
    "################################################################################\n",
    "# Initialize Annealer\n",
    "anneal1 = va_nnet.Annealer()\n",
    "# Set the network structure\n",
    "anneal1.set_structure(structure)\n",
    "# Set the activation function\n",
    "anneal1.set_activation(tanh)\n",
    "# Set the input and output data\n",
    "anneal1.set_input_data(data_in)\n",
    "anneal1.set_output_data(data_out)\n",
    "\n",
    "# Run the annealing using L-BFGS-B\n",
    "BFGS_options = {'gtol':1.0e-12, 'ftol':1.0e-10, 'maxfun':1000000, 'maxiter':1000000}\n",
    "tstart = time.time()\n",
    "anneal1.anneal(X0, P0, alpha, beta_array, RM, RF0, Pidx, Lidx=Lidx,\n",
    "               method='L-BFGS-B', opt_args=BFGS_options, adolcID=adolcID)\n",
    "print(\"\\nADOL-C annealing completed in %f s.\"%(time.time() - tstart))\n",
    "\n",
    "# Save the results of annealing\n",
    "#anneal1.save_states(\"L%d_%s_%dex/states_%d.npy\"%(L, suffix, M, ninit))\n",
    "#anneal1.save_params(\"params.npy\")\n",
    "#anneal1.save_paths(\"l96_out_data/DH%d_%dex/io_%d.npy\"%(D_hidden, M, ninit))\n",
    "anneal1.save_io(\"l96_out_data/DH%d_%dex/io_%d.npy\"%(D_hidden, M, ninit))\n",
    "anneal1.save_Wb(\"l96_out_data/DH%d_%dex/W_%d.npy\"%(D_hidden, M, ninit),\n",
    "                \"l96_out_data/DH%d_%dex/b_%d.npy\"%(D_hidden, M, ninit))\n",
    "anneal1.save_action_errors(\"l96_out_data/DH%d_%dex/action_errors_%d.npy\"%(D_hidden, M, ninit))\n",
    "\n"
   ]
  },
  {
   "cell_type": "code",
   "execution_count": 2,
   "metadata": {},
   "outputs": [
    {
     "data": {
      "text/plain": [
       "(100, 200)"
      ]
     },
     "execution_count": 2,
     "metadata": {},
     "output_type": "execute_result"
    }
   ],
   "source": [
    "data_in.shape"
   ]
  },
  {
   "cell_type": "code",
   "execution_count": 3,
   "metadata": {},
   "outputs": [
    {
     "data": {
      "text/plain": [
       "(100, 100)"
      ]
     },
     "execution_count": 3,
     "metadata": {},
     "output_type": "execute_result"
    }
   ],
   "source": [
    "data_out.shape"
   ]
  },
  {
   "cell_type": "code",
   "execution_count": 2,
   "metadata": {},
   "outputs": [
    {
     "data": {
      "text/plain": [
       "(1300, 2)"
      ]
     },
     "execution_count": 2,
     "metadata": {},
     "output_type": "execute_result"
    }
   ],
   "source": [
    "data.shape"
   ]
  },
  {
   "cell_type": "code",
   "execution_count": 5,
   "metadata": {},
   "outputs": [
    {
     "name": "stdout",
     "output_type": "stream",
     "text": [
      "\u001b[0m\u001b[01;34m5var_generated_l96_data\u001b[0m/           MLP-NN L96 Data.ipynb\r\n",
      "adapt_l96_N3_anneal_EDIT.py.ipynb  output\r\n",
      "adapt_l96_N3_anneal.py             Recurrent Net Guess (Fibonacci).ipynb\r\n",
      "\u001b[01;34ml96\u001b[0m/                               submit_multiDH_multiM.sh\r\n",
      "lorenz96.ipynb                     Untitled1.ipynb\r\n",
      "Lorenz96.ipynb                     VarAnneal_RNN.ipynb\r\n"
     ]
    }
   ],
   "source": [
    "ls"
   ]
  },
  {
   "cell_type": "code",
   "execution_count": null,
   "metadata": {},
   "outputs": [],
   "source": []
  }
 ],
 "metadata": {
  "kernelspec": {
   "display_name": "Python 2",
   "language": "python",
   "name": "python2"
  },
  "language_info": {
   "codemirror_mode": {
    "name": "ipython",
    "version": 2
   },
   "file_extension": ".py",
   "mimetype": "text/x-python",
   "name": "python",
   "nbconvert_exporter": "python",
   "pygments_lexer": "ipython2",
   "version": "2.7.6"
  }
 },
 "nbformat": 4,
 "nbformat_minor": 2
}
